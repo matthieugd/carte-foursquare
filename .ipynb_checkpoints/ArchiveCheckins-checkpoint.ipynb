{
 "cells": [
  {
   "cell_type": "code",
   "execution_count": null,
   "metadata": {},
   "outputs": [],
   "source": [
    "from datetime import datetime\n",
    "from datetime import timezone\n",
    "\n",
    "class Checkin:\n",
    "    def __init__(self, id, createdAt, tzOffSet, venue):\n",
    "        self.id = id\n",
    "        self.utcDate = datetime.fromtimestamp(createdAt + (60 * tzOffSet), timezone.utc)\n",
    "        self.venue = venue\n",
    "        \n",
    "    def __iter__(self):\n",
    "        return iter([self.id, self.utcDate, self.venue.id, self.venue.name, self.venue.lat, self.venue.long, self.venue.city, self.venue.country])\n",
    "\n",
    "class Venue:\n",
    "    def __init__(self, id):\n",
    "        self.id = id\n",
    "        self.name = ''\n",
    "        self.lat = ''\n",
    "        self.long = ''\n",
    "        self.city = ''\n",
    "        self.country = '' \n",
    "    \n",
    "    def addDetails(self, name, lat, long, city, country):\n",
    "        self.name = name\n",
    "        self.lat = lat\n",
    "        self.long = long\n",
    "        self.city = city\n",
    "        self.country = country       "
   ]
  },
  {
   "cell_type": "code",
   "execution_count": null,
   "metadata": {},
   "outputs": [],
   "source": [
    "# load json checkins data from 4SQ export\n",
    "import json\n",
    "\n",
    "checkins = {}\n",
    "venues = {}\n",
    "   \n",
    "print(\"load checkins data from 4SQ export file\")\n",
    "\n",
    "with open(\"checkins.json\", \"r\") as read_file:\n",
    "    fQcheckins = json.load(read_file)\n",
    "    \n",
    "    # iterate on checkins data\n",
    "    for fQCheckin in fQcheckins[\"items\"]:\n",
    "        checkinId = fQCheckin[\"id\"]\n",
    "        #str(print(checkinId)\n",
    "        \n",
    "        # save id venue for future processing\n",
    "        venue4q = fQCheckin.get('venue')\n",
    "        if venue4q is not None:\n",
    "            venueId = venue4q['id']\n",
    "            if venues.get(venueId) is None:\n",
    "                venue = Venue(venueId)\n",
    "                venues[venueId] = venue\n",
    "            else:\n",
    "                venue = venues.get(venueId)\n",
    "        \n",
    "            # save checkins data\n",
    "            checkin = Checkin(checkinId, fQCheckin[\"createdAt\"], fQCheckin[\"timeZoneOffset\"], venue)\n",
    "            checkins[checkinId] = checkin\n",
    "        \n",
    "print(\"numbers of venues :\", len(venues))\n",
    "print(\"numers of checkins:\", len(checkins))       "
   ]
  },
  {
   "cell_type": "code",
   "execution_count": null,
   "metadata": {},
   "outputs": [],
   "source": [
    "import requests\n",
    "\n",
    "headers = {\"Accept\": \"application/json\", \"Accept-Language\": \"en\" }\n",
    "url = \"https://api.foursquare.com/v2/venues/{0}/?v=20220829&client_id={yourclientid}&client_secret={client_secret}\"\n",
    "\n",
    "count=0\n",
    "# now we can process the list of venues to get details from Foursquare API\n",
    "for venueId, venue in venues.items():\n",
    "    urlWithVenueId = url.format(venueId)\n",
    "    response = requests.get(urlWithVenueId, headers=headers)\n",
    "    \n",
    "    count+=1\n",
    "    print(count)\n",
    "    \n",
    "    if response.ok:\n",
    "        venueData = json.loads(response.text)[\"response\"][\"venue\"]\n",
    "        venueLocation = venueData[\"location\"]\n",
    "        # print(venueLocation)\n",
    "        venue.addDetails(venueData[\"name\"], venueLocation.get(\"lat\"), venueLocation.get(\"lng\"), venueLocation.get(\"city\"), venueLocation.get(\"country\"))\n",
    "    else:\n",
    "        print(response.status_code)\n",
    "        print(response.text)\n",
    "        \n",
    "print(\"Venues processed\")"
   ]
  },
  {
   "cell_type": "code",
   "execution_count": null,
   "metadata": {
    "scrolled": true
   },
   "outputs": [],
   "source": [
    "import csv\n",
    "\n",
    "# save the data in a file now\n",
    "with open('data-english-names.csv', 'w') as csvfile:\n",
    "    csv_writer = csv.writer(csvfile)\n",
    "    count = 0\n",
    "    for checkinId, checkin in checkins.items():\n",
    "        count+=1\n",
    "        csv_writer.writerow(list(checkin)) \n",
    "\n",
    "print(\"lines saved:\", count)\n",
    "print(\"File saved\")"
   ]
  },
  {
   "cell_type": "code",
   "execution_count": null,
   "metadata": {},
   "outputs": [],
   "source": [
    "import requests\n",
    "import json\n",
    "\n",
    "headers = {\"Accept\": \"application/json\", \"Accept-Language\": \"en\" }\n",
    "url = \"https://api.foursquare.com/v2/venues/{0}/?v=20220829&client_id={client_id}&client_secret={client_secret}\"\n",
    "\n",
    "urlWithVenueId = url.format(\"518c4b7f5019d968d0177afe\")\n",
    "response = requests.get(urlWithVenueId, headers=headers)\n",
    "    \n",
    "if response.ok:\n",
    "    venueData = json.loads(response.text)[\"response\"][\"venue\"]\n",
    "    venueLocation = venueData[\"location\"]\n",
    "    print(venueLocation) \n",
    "else:\n",
    "    print(response.status_code)\n",
    "    print(response.text)\n",
    "        \n",
    "print(\"Venues processed\")"
   ]
  },
  {
   "cell_type": "code",
   "execution_count": null,
   "metadata": {},
   "outputs": [],
   "source": []
  }
 ],
 "metadata": {
  "kernelspec": {
   "display_name": "Python 3 (ipykernel)",
   "language": "python",
   "name": "python3"
  },
  "language_info": {
   "codemirror_mode": {
    "name": "ipython",
    "version": 3
   },
   "file_extension": ".py",
   "mimetype": "text/x-python",
   "name": "python",
   "nbconvert_exporter": "python",
   "pygments_lexer": "ipython3",
   "version": "3.9.10+"
  }
 },
 "nbformat": 4,
 "nbformat_minor": 2
}
